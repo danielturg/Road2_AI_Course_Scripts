{
  "nbformat": 4,
  "nbformat_minor": 0,
  "metadata": {
    "colab": {
      "provenance": [],
      "gpuType": "T4",
      "authorship_tag": "ABX9TyN5SGWH8cOaaO3phexRe+H6",
      "include_colab_link": true
    },
    "kernelspec": {
      "name": "python3",
      "display_name": "Python 3"
    },
    "language_info": {
      "name": "python"
    },
    "accelerator": "GPU"
  },
  "cells": [
    {
      "cell_type": "markdown",
      "metadata": {
        "id": "view-in-github",
        "colab_type": "text"
      },
      "source": [
        "<a href=\"https://colab.research.google.com/github/danielturg/Road2_AI_Course_Scripts/blob/main/HW5_Road2_AI_Course.ipynb\" target=\"_parent\"><img src=\"https://colab.research.google.com/assets/colab-badge.svg\" alt=\"Open In Colab\"/></a>"
      ]
    },
    {
      "cell_type": "markdown",
      "source": [
        "write a code to get the Fashion MNIST Dataset. (i want 60k images in train and 10k in validation if that's not the default). i want you to then build a convolutional neural network with the following attributes: sequential, first layer is a conv2d layer with 32 kernels that are 3x3, padding = same, activation = relu, inputshape = (28, 28, 1).  then a max pooling 2d layer of 2x2 and stride =2. then another conv layer with 64 kernals, then another max pooling layer. then a flatten layer, then a dense layer with 128 neurons and activation = relu then finally a dense layer with 10 layers and activation = softmax. the network receives a 28 by 28 grayscale image and outputs a prediction of what fashion item it is out of the 10 classifications of the dataset."
      ],
      "metadata": {
        "id": "iGNfWdmRXVM8"
      }
    },
    {
      "cell_type": "code",
      "execution_count": 1,
      "metadata": {
        "colab": {
          "base_uri": "https://localhost:8080/"
        },
        "id": "t33hjcoaUPtR",
        "outputId": "63f9ec62-10be-4509-ff27-f5de94ff289f"
      },
      "outputs": [
        {
          "output_type": "stream",
          "name": "stdout",
          "text": [
            "Downloading data from https://storage.googleapis.com/tensorflow/tf-keras-datasets/train-labels-idx1-ubyte.gz\n",
            "29515/29515 [==============================] - 0s 1us/step\n",
            "Downloading data from https://storage.googleapis.com/tensorflow/tf-keras-datasets/train-images-idx3-ubyte.gz\n",
            "26421880/26421880 [==============================] - 2s 0us/step\n",
            "Downloading data from https://storage.googleapis.com/tensorflow/tf-keras-datasets/t10k-labels-idx1-ubyte.gz\n",
            "5148/5148 [==============================] - 0s 0us/step\n",
            "Downloading data from https://storage.googleapis.com/tensorflow/tf-keras-datasets/t10k-images-idx3-ubyte.gz\n",
            "4422102/4422102 [==============================] - 1s 0us/step\n",
            "Model: \"sequential\"\n",
            "_________________________________________________________________\n",
            " Layer (type)                Output Shape              Param #   \n",
            "=================================================================\n",
            " conv2d (Conv2D)             (None, 28, 28, 32)        320       \n",
            "                                                                 \n",
            " max_pooling2d (MaxPooling2  (None, 14, 14, 32)        0         \n",
            " D)                                                              \n",
            "                                                                 \n",
            " conv2d_1 (Conv2D)           (None, 12, 12, 64)        18496     \n",
            "                                                                 \n",
            " max_pooling2d_1 (MaxPoolin  (None, 6, 6, 64)          0         \n",
            " g2D)                                                            \n",
            "                                                                 \n",
            " flatten (Flatten)           (None, 2304)              0         \n",
            "                                                                 \n",
            " dense (Dense)               (None, 128)               295040    \n",
            "                                                                 \n",
            " dense_1 (Dense)             (None, 10)                1290      \n",
            "                                                                 \n",
            "=================================================================\n",
            "Total params: 315146 (1.20 MB)\n",
            "Trainable params: 315146 (1.20 MB)\n",
            "Non-trainable params: 0 (0.00 Byte)\n",
            "_________________________________________________________________\n",
            "Epoch 1/10\n",
            "1688/1688 [==============================] - 20s 5ms/step - loss: 0.4252 - accuracy: 0.8469 - val_loss: 0.3277 - val_accuracy: 0.8777\n",
            "Epoch 2/10\n",
            "1688/1688 [==============================] - 8s 5ms/step - loss: 0.2760 - accuracy: 0.8997 - val_loss: 0.2775 - val_accuracy: 0.8988\n",
            "Epoch 3/10\n",
            "1688/1688 [==============================] - 8s 5ms/step - loss: 0.2314 - accuracy: 0.9151 - val_loss: 0.2362 - val_accuracy: 0.9128\n",
            "Epoch 4/10\n",
            "1688/1688 [==============================] - 9s 5ms/step - loss: 0.1969 - accuracy: 0.9270 - val_loss: 0.2404 - val_accuracy: 0.9077\n",
            "Epoch 5/10\n",
            "1688/1688 [==============================] - 7s 4ms/step - loss: 0.1699 - accuracy: 0.9365 - val_loss: 0.2264 - val_accuracy: 0.9190\n",
            "Epoch 6/10\n",
            "1688/1688 [==============================] - 9s 5ms/step - loss: 0.1457 - accuracy: 0.9449 - val_loss: 0.2213 - val_accuracy: 0.9213\n",
            "Epoch 7/10\n",
            "1688/1688 [==============================] - 8s 5ms/step - loss: 0.1249 - accuracy: 0.9534 - val_loss: 0.2273 - val_accuracy: 0.9212\n",
            "Epoch 8/10\n",
            "1688/1688 [==============================] - 8s 5ms/step - loss: 0.1061 - accuracy: 0.9604 - val_loss: 0.2599 - val_accuracy: 0.9137\n",
            "Epoch 9/10\n",
            "1688/1688 [==============================] - 8s 5ms/step - loss: 0.0901 - accuracy: 0.9658 - val_loss: 0.2604 - val_accuracy: 0.9240\n",
            "Epoch 10/10\n",
            "1688/1688 [==============================] - 8s 5ms/step - loss: 0.0778 - accuracy: 0.9707 - val_loss: 0.2760 - val_accuracy: 0.9212\n",
            "313/313 [==============================] - 1s 3ms/step - loss: 0.2921 - accuracy: 0.9191\n",
            "\n",
            "Test Accuracy: 0.9190999865531921\n"
          ]
        }
      ],
      "source": [
        "import tensorflow as tf\n",
        "from tensorflow.keras import layers, models\n",
        "from tensorflow.keras.datasets import fashion_mnist\n",
        "from tensorflow.keras.utils import to_categorical\n",
        "\n",
        "# Load the Fashion MNIST dataset\n",
        "(x_train, y_train), (x_test, y_test) = fashion_mnist.load_data()\n",
        "\n",
        "# Normalize pixel values to be between 0 and 1\n",
        "x_train, x_test = x_train / 255.0, x_test / 255.0\n",
        "\n",
        "# Add a channel dimension to the images (required for Conv2D)\n",
        "x_train = x_train.reshape((x_train.shape[0], 28, 28, 1))\n",
        "x_test = x_test.reshape((x_test.shape[0], 28, 28, 1))\n",
        "\n",
        "# Convert labels to one-hot encoding\n",
        "y_train = to_categorical(y_train, 10)\n",
        "y_test = to_categorical(y_test, 10)\n",
        "\n",
        "# Build the convolutional neural network\n",
        "model = models.Sequential()\n",
        "model.add(layers.Conv2D(32, (3, 3), padding='same', activation='relu', input_shape=(28, 28, 1)))\n",
        "model.add(layers.MaxPooling2D((2, 2), strides=2))\n",
        "model.add(layers.Conv2D(64, (3, 3), activation='relu'))\n",
        "model.add(layers.MaxPooling2D((2, 2), strides=2))\n",
        "model.add(layers.Flatten())\n",
        "model.add(layers.Dense(128, activation='relu'))\n",
        "model.add(layers.Dense(10, activation='softmax'))\n",
        "\n",
        "# Compile the model\n",
        "model.compile(optimizer='adam',\n",
        "              loss='categorical_crossentropy',\n",
        "              metrics=['accuracy'])\n",
        "\n",
        "# Display the model summary\n",
        "model.summary()\n",
        "\n",
        "# Train the model\n",
        "history = model.fit(x_train, y_train, epochs=10, validation_split=0.1)\n",
        "\n",
        "# Evaluate the model on the test set\n",
        "test_loss, test_acc = model.evaluate(x_test, y_test)\n",
        "print(f\"\\nTest Accuracy: {test_acc}\")\n"
      ]
    },
    {
      "cell_type": "markdown",
      "source": [
        "predicting from test set"
      ],
      "metadata": {
        "id": "5U_USJ_yYxFh"
      }
    },
    {
      "cell_type": "code",
      "source": [
        "import matplotlib.pyplot as plt\n",
        "\n",
        "# Choose an index from the Fashion MNIST dataset\n",
        "image_index = 888  # You can change this index to any value between 0 and 59999\n",
        "\n",
        "# Load the chosen image and preprocess it\n",
        "input_image = x_test[image_index].reshape(1, 28, 28, 1)\n",
        "\n",
        "#classes\n",
        "class_labels = [\n",
        "    \"T-shirt/top\", \"Trouser\", \"Pullover\", \"Dress\", \"Coat\",\n",
        "    \"Sandal\", \"Shirt\", \"Sneaker\", \"Bag\", \"Ankle boot\"\n",
        "]\n",
        "\n",
        "# Make predictions\n",
        "predictions = model.predict(input_image)\n",
        "\n",
        "# Get the predicted class index and label\n",
        "predicted_class_index = np.argmax(predictions)\n",
        "predicted_class_label = class_labels[predicted_class_index]\n",
        "\n",
        "# Display the chosen image\n",
        "plt.imshow(x_test[image_index].reshape(28, 28), cmap='gray')\n",
        "plt.title(f\"True Label: {np.argmax(y_test[image_index])}\\nPredicted Label: {predicted_class_index} - {predicted_class_label}\")\n",
        "plt.axis('off')\n",
        "plt.show()\n"
      ],
      "metadata": {
        "colab": {
          "base_uri": "https://localhost:8080/",
          "height": 467
        },
        "id": "q9JTG_EsaGSV",
        "outputId": "08789d56-d9f1-411d-b08d-14b36fb7575d"
      },
      "execution_count": 7,
      "outputs": [
        {
          "output_type": "stream",
          "name": "stdout",
          "text": [
            "1/1 [==============================] - 0s 84ms/step\n"
          ]
        },
        {
          "output_type": "display_data",
          "data": {
            "text/plain": [
              "<Figure size 640x480 with 1 Axes>"
            ],
            "image/png": "[encoded data removed]"
          },
          "metadata": {}
        }
      ]
    }
  ]
}